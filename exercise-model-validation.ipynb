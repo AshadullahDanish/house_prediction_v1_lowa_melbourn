{
 "cells": [
  {
   "cell_type": "markdown",
   "id": "259e8f18",
   "metadata": {
    "papermill": {
     "duration": 0.00737,
     "end_time": "2023-09-09T14:04:11.272612",
     "exception": false,
     "start_time": "2023-09-09T14:04:11.265242",
     "status": "completed"
    },
    "tags": []
   },
   "source": [
    "**This notebook is an exercise in the [Introduction to Machine Learning](https://www.kaggle.com/learn/intro-to-machine-learning) course.  You can reference the tutorial at [this link](https://www.kaggle.com/dansbecker/model-validation).**\n",
    "\n",
    "---\n"
   ]
  },
  {
   "cell_type": "markdown",
   "id": "3332c62d",
   "metadata": {
    "papermill": {
     "duration": 0.006512,
     "end_time": "2023-09-09T14:04:11.285994",
     "exception": false,
     "start_time": "2023-09-09T14:04:11.279482",
     "status": "completed"
    },
    "tags": []
   },
   "source": [
    "## Recap\n",
    "You've built a model. In this exercise you will test how good your model is.\n",
    "\n",
    "Run the cell below to set up your coding environment where the previous exercise left off."
   ]
  },
  {
   "cell_type": "code",
   "execution_count": 1,
   "id": "36adf93d",
   "metadata": {
    "execution": {
     "iopub.execute_input": "2023-09-09T14:04:11.301414Z",
     "iopub.status.busy": "2023-09-09T14:04:11.300805Z",
     "iopub.status.idle": "2023-09-09T14:04:13.456510Z",
     "shell.execute_reply": "2023-09-09T14:04:13.455153Z"
    },
    "papermill": {
     "duration": 2.168112,
     "end_time": "2023-09-09T14:04:13.460639",
     "exception": false,
     "start_time": "2023-09-09T14:04:11.292527",
     "status": "completed"
    },
    "tags": []
   },
   "outputs": [
    {
     "name": "stdout",
     "output_type": "stream",
     "text": [
      "First in-sample predictions: [208500. 181500. 223500. 140000. 250000.]\n",
      "Actual target values for those homes: [208500, 181500, 223500, 140000, 250000]\n",
      "Setup Complete\n"
     ]
    }
   ],
   "source": [
    "# Code you have previously used to load data\n",
    "import pandas as pd\n",
    "from sklearn.tree import DecisionTreeRegressor\n",
    "\n",
    "# Path of the file to read\n",
    "iowa_file_path = '../input/home-data-for-ml-course/train.csv'\n",
    "\n",
    "home_data = pd.read_csv(iowa_file_path)\n",
    "y = home_data.SalePrice\n",
    "feature_columns = ['LotArea', 'YearBuilt', '1stFlrSF', '2ndFlrSF', 'FullBath', 'BedroomAbvGr', 'TotRmsAbvGrd']\n",
    "X = home_data[feature_columns]\n",
    "\n",
    "# Specify Model\n",
    "iowa_model = DecisionTreeRegressor()\n",
    "# Fit Model\n",
    "iowa_model.fit(X, y)\n",
    "\n",
    "print(\"First in-sample predictions:\", iowa_model.predict(X.head()))\n",
    "print(\"Actual target values for those homes:\", y.head().tolist())\n",
    "\n",
    "# Set up code checking\n",
    "from learntools.core import binder\n",
    "binder.bind(globals())\n",
    "from learntools.machine_learning.ex4 import *\n",
    "print(\"Setup Complete\")"
   ]
  },
  {
   "cell_type": "markdown",
   "id": "7d895cfc",
   "metadata": {
    "papermill": {
     "duration": 0.006667,
     "end_time": "2023-09-09T14:04:13.474464",
     "exception": false,
     "start_time": "2023-09-09T14:04:13.467797",
     "status": "completed"
    },
    "tags": []
   },
   "source": [
    "# Exercises\n",
    "\n",
    "## Step 1: Split Your Data\n",
    "Use the `train_test_split` function to split up your data.\n",
    "\n",
    "Give it the argument `random_state=1` so the `check` functions know what to expect when verifying your code.\n",
    "\n",
    "Recall, your features are loaded in the DataFrame **X** and your target is loaded in **y**.\n"
   ]
  },
  {
   "cell_type": "code",
   "execution_count": 2,
   "id": "ddc74331",
   "metadata": {
    "execution": {
     "iopub.execute_input": "2023-09-09T14:04:13.490035Z",
     "iopub.status.busy": "2023-09-09T14:04:13.489390Z",
     "iopub.status.idle": "2023-09-09T14:04:13.503788Z",
     "shell.execute_reply": "2023-09-09T14:04:13.502603Z"
    },
    "papermill": {
     "duration": 0.02499,
     "end_time": "2023-09-09T14:04:13.506211",
     "exception": false,
     "start_time": "2023-09-09T14:04:13.481221",
     "status": "completed"
    },
    "tags": []
   },
   "outputs": [
    {
     "data": {
      "application/javascript": [
       "parent.postMessage({\"jupyterEvent\": \"custom.exercise_interaction\", \"data\": {\"outcomeType\": 1, \"valueTowardsCompletion\": 0.25, \"interactionType\": 1, \"questionType\": 2, \"questionId\": \"1_SplitData\", \"learnToolsVersion\": \"0.3.4\", \"failureMessage\": \"\", \"exceptionClass\": \"\", \"trace\": \"\"}}, \"*\")"
      ],
      "text/plain": [
       "<IPython.core.display.Javascript object>"
      ]
     },
     "metadata": {},
     "output_type": "display_data"
    },
    {
     "data": {
      "text/markdown": [
       "<span style=\"color:#33cc33\">Correct</span>"
      ],
      "text/plain": [
       "Correct"
      ]
     },
     "metadata": {},
     "output_type": "display_data"
    }
   ],
   "source": [
    "# Import the train_test_split function and uncomment\n",
    "from sklearn.model_selection import train_test_split\n",
    "\n",
    "# fill in and uncomment\n",
    "train_X, val_X, train_y, val_y = train_test_split(X,y, random_state=1)\n",
    "\n",
    "# Check your answer\n",
    "step_1.check()"
   ]
  },
  {
   "cell_type": "markdown",
   "id": "b2e15caf",
   "metadata": {
    "papermill": {
     "duration": 0.006846,
     "end_time": "2023-09-09T14:04:13.520004",
     "exception": false,
     "start_time": "2023-09-09T14:04:13.513158",
     "status": "completed"
    },
    "tags": []
   },
   "source": [
    "## Step 2: Specify and Fit the Model\n",
    "\n",
    "Create a `DecisionTreeRegressor` model and fit it to the relevant data.\n",
    "Set `random_state` to 1 again when creating the model."
   ]
  },
  {
   "cell_type": "code",
   "execution_count": 3,
   "id": "bf8f310f",
   "metadata": {
    "execution": {
     "iopub.execute_input": "2023-09-09T14:04:13.536430Z",
     "iopub.status.busy": "2023-09-09T14:04:13.535173Z",
     "iopub.status.idle": "2023-09-09T14:04:13.565346Z",
     "shell.execute_reply": "2023-09-09T14:04:13.564111Z"
    },
    "papermill": {
     "duration": 0.041305,
     "end_time": "2023-09-09T14:04:13.568117",
     "exception": false,
     "start_time": "2023-09-09T14:04:13.526812",
     "status": "completed"
    },
    "tags": []
   },
   "outputs": [
    {
     "name": "stdout",
     "output_type": "stream",
     "text": [
      "[186500. 184000. 130000.  92000. 164500. 220000. 335000. 144152. 215000.\n",
      " 262000.]\n",
      "[186500. 184000. 130000.  92000. 164500. 220000. 335000. 144152. 215000.\n",
      " 262000.]\n"
     ]
    },
    {
     "data": {
      "application/javascript": [
       "parent.postMessage({\"jupyterEvent\": \"custom.exercise_interaction\", \"data\": {\"outcomeType\": 1, \"valueTowardsCompletion\": 0.25, \"interactionType\": 1, \"questionType\": 2, \"questionId\": \"2_FitModelWithTrain\", \"learnToolsVersion\": \"0.3.4\", \"failureMessage\": \"\", \"exceptionClass\": \"\", \"trace\": \"\"}}, \"*\")"
      ],
      "text/plain": [
       "<IPython.core.display.Javascript object>"
      ]
     },
     "metadata": {},
     "output_type": "display_data"
    },
    {
     "data": {
      "text/markdown": [
       "<span style=\"color:#33cc33\">Correct</span>"
      ],
      "text/plain": [
       "Correct"
      ]
     },
     "metadata": {},
     "output_type": "display_data"
    }
   ],
   "source": [
    "# You imported DecisionTreeRegressor in your last exercise\n",
    "# and that code has been copied to the setup code above. So, no need to\n",
    "# import it again\n",
    "from sklearn.tree import DecisionTreeRegressor\n",
    "# Specify the model\n",
    "iowa_model = DecisionTreeRegressor(random_state = 1)\n",
    "\n",
    "# Fit iowa_model with the training data.\n",
    "iowa_model.fit(train_X, train_y)\n",
    "\n",
    "# Check your answer\n",
    "step_2.check()"
   ]
  },
  {
   "cell_type": "markdown",
   "id": "5b66aed1",
   "metadata": {
    "papermill": {
     "duration": 0.007528,
     "end_time": "2023-09-09T14:04:13.583203",
     "exception": false,
     "start_time": "2023-09-09T14:04:13.575675",
     "status": "completed"
    },
    "tags": []
   },
   "source": [
    "## Step 3: Make Predictions with Validation data\n"
   ]
  },
  {
   "cell_type": "code",
   "execution_count": 4,
   "id": "11df3556",
   "metadata": {
    "execution": {
     "iopub.execute_input": "2023-09-09T14:04:13.600458Z",
     "iopub.status.busy": "2023-09-09T14:04:13.600073Z",
     "iopub.status.idle": "2023-09-09T14:04:13.612472Z",
     "shell.execute_reply": "2023-09-09T14:04:13.611345Z"
    },
    "papermill": {
     "duration": 0.023299,
     "end_time": "2023-09-09T14:04:13.614633",
     "exception": false,
     "start_time": "2023-09-09T14:04:13.591334",
     "status": "completed"
    },
    "tags": []
   },
   "outputs": [
    {
     "data": {
      "application/javascript": [
       "parent.postMessage({\"jupyterEvent\": \"custom.exercise_interaction\", \"data\": {\"outcomeType\": 1, \"valueTowardsCompletion\": 0.25, \"interactionType\": 1, \"questionType\": 2, \"questionId\": \"3_ValPreds\", \"learnToolsVersion\": \"0.3.4\", \"failureMessage\": \"\", \"exceptionClass\": \"\", \"trace\": \"\"}}, \"*\")"
      ],
      "text/plain": [
       "<IPython.core.display.Javascript object>"
      ]
     },
     "metadata": {},
     "output_type": "display_data"
    },
    {
     "data": {
      "text/markdown": [
       "<span style=\"color:#33cc33\">Correct</span>"
      ],
      "text/plain": [
       "Correct"
      ]
     },
     "metadata": {},
     "output_type": "display_data"
    }
   ],
   "source": [
    "# Predict with all validation observations\n",
    "val_predictions = iowa_model.predict(val_X)\n",
    "\n",
    "# Check your answer\n",
    "step_3.check()"
   ]
  },
  {
   "cell_type": "markdown",
   "id": "22bf8b07",
   "metadata": {
    "papermill": {
     "duration": 0.007704,
     "end_time": "2023-09-09T14:04:13.630289",
     "exception": false,
     "start_time": "2023-09-09T14:04:13.622585",
     "status": "completed"
    },
    "tags": []
   },
   "source": [
    "Inspect your predictions and actual values from validation data."
   ]
  },
  {
   "cell_type": "code",
   "execution_count": 5,
   "id": "29122ea3",
   "metadata": {
    "execution": {
     "iopub.execute_input": "2023-09-09T14:04:13.647832Z",
     "iopub.status.busy": "2023-09-09T14:04:13.647426Z",
     "iopub.status.idle": "2023-09-09T14:04:13.656184Z",
     "shell.execute_reply": "2023-09-09T14:04:13.655047Z"
    },
    "papermill": {
     "duration": 0.020543,
     "end_time": "2023-09-09T14:04:13.658716",
     "exception": false,
     "start_time": "2023-09-09T14:04:13.638173",
     "status": "completed"
    },
    "tags": []
   },
   "outputs": [
    {
     "name": "stdout",
     "output_type": "stream",
     "text": [
      "Top five validation predictions [186500. 184000. 130000.  92000. 164500.]\n",
      "This is top five actual price from validation data \n",
      " 258     231500\n",
      "267     179500\n",
      "288     122000\n",
      "649      84500\n",
      "1233    142000\n",
      "Name: SalePrice, dtype: int64\n"
     ]
    }
   ],
   "source": [
    "\n",
    "# print the top few validation predictions\n",
    "print(\"Top five validation predictions\",iowa_model.predict(val_X.head()))\n",
    "# print the top few actual prices from validation data\n",
    "print('This is top five actual price from validation data \\n', val_y.head())"
   ]
  },
  {
   "cell_type": "markdown",
   "id": "2b79f46e",
   "metadata": {
    "papermill": {
     "duration": 0.008098,
     "end_time": "2023-09-09T14:04:13.675420",
     "exception": false,
     "start_time": "2023-09-09T14:04:13.667322",
     "status": "completed"
    },
    "tags": []
   },
   "source": [
    "What do you notice that is different from what you saw with in-sample predictions (which are printed after the top code cell in this page).\n",
    "\n",
    "Do you remember why validation predictions differ from in-sample (or training) predictions? This is an important idea from the last lesson.\n",
    "\n",
    "## Step 4: Calculate the Mean Absolute Error in Validation Data\n"
   ]
  },
  {
   "cell_type": "code",
   "execution_count": 6,
   "id": "cf7e9ded",
   "metadata": {
    "execution": {
     "iopub.execute_input": "2023-09-09T14:04:13.693095Z",
     "iopub.status.busy": "2023-09-09T14:04:13.692651Z",
     "iopub.status.idle": "2023-09-09T14:04:13.702180Z",
     "shell.execute_reply": "2023-09-09T14:04:13.701119Z"
    },
    "papermill": {
     "duration": 0.020979,
     "end_time": "2023-09-09T14:04:13.704379",
     "exception": false,
     "start_time": "2023-09-09T14:04:13.683400",
     "status": "completed"
    },
    "tags": []
   },
   "outputs": [
    {
     "name": "stdout",
     "output_type": "stream",
     "text": [
      "29652.931506849316\n"
     ]
    },
    {
     "data": {
      "application/javascript": [
       "parent.postMessage({\"jupyterEvent\": \"custom.exercise_interaction\", \"data\": {\"outcomeType\": 1, \"valueTowardsCompletion\": 0.25, \"interactionType\": 1, \"questionType\": 1, \"questionId\": \"4_MAE\", \"learnToolsVersion\": \"0.3.4\", \"failureMessage\": \"\", \"exceptionClass\": \"\", \"trace\": \"\"}}, \"*\")"
      ],
      "text/plain": [
       "<IPython.core.display.Javascript object>"
      ]
     },
     "metadata": {},
     "output_type": "display_data"
    },
    {
     "data": {
      "text/markdown": [
       "<span style=\"color:#33cc33\">Correct</span>"
      ],
      "text/plain": [
       "Correct"
      ]
     },
     "metadata": {},
     "output_type": "display_data"
    }
   ],
   "source": [
    "from sklearn.metrics import mean_absolute_error\n",
    "val_mae = mean_absolute_error(val_y, val_predictions)\n",
    "\n",
    "# uncomment following line to see the validation_mae\n",
    "print(val_mae)\n",
    "\n",
    "# Check your answer\n",
    "step_4.check()"
   ]
  },
  {
   "cell_type": "markdown",
   "id": "05c6bf9f",
   "metadata": {
    "papermill": {
     "duration": 0.008229,
     "end_time": "2023-09-09T14:04:13.721028",
     "exception": false,
     "start_time": "2023-09-09T14:04:13.712799",
     "status": "completed"
    },
    "tags": []
   },
   "source": [
    "Is that MAE good?  There isn't a general rule for what values are good that applies across applications. But you'll see how to use (and improve) this number in the next step.\n",
    "\n",
    "# Keep Going\n",
    "\n",
    "You are ready for **[Underfitting and Overfitting](https://www.kaggle.com/dansbecker/underfitting-and-overfitting).**\n"
   ]
  },
  {
   "cell_type": "markdown",
   "id": "1929f55c",
   "metadata": {
    "papermill": {
     "duration": 0.008295,
     "end_time": "2023-09-09T14:04:13.737816",
     "exception": false,
     "start_time": "2023-09-09T14:04:13.729521",
     "status": "completed"
    },
    "tags": []
   },
   "source": [
    "---\n",
    "\n",
    "\n",
    "\n",
    "\n",
    "*Have questions or comments? Visit the [course discussion forum](https://www.kaggle.com/learn/intro-to-machine-learning/discussion) to chat with other learners.*"
   ]
  }
 ],
 "kernelspec": {
  "display_name": "Python 3",
  "language": "python",
  "name": "python3"
 },
 "language_info": {
  "codemirror_mode": {
   "name": "ipython",
   "version": 3
  },
  "file_extension": ".py",
  "mimetype": "text/x-python",
  "name": "python",
  "nbconvert_exporter": "python",
  "pygments_lexer": "ipython3",
  "version": "3.6.4"
 },
 "metadata": {
  "kernelspec": {
   "display_name": "Python 3",
   "language": "python",
   "name": "python3"
  },
  "language_info": {
   "codemirror_mode": {
    "name": "ipython",
    "version": 3
   },
   "file_extension": ".py",
   "mimetype": "text/x-python",
   "name": "python",
   "nbconvert_exporter": "python",
   "pygments_lexer": "ipython3",
   "version": "3.10.12"
  },
  "papermill": {
   "default_parameters": {},
   "duration": 6.613523,
   "end_time": "2023-09-09T14:04:14.266845",
   "environment_variables": {},
   "exception": null,
   "input_path": "__notebook__.ipynb",
   "output_path": "__notebook__.ipynb",
   "parameters": {},
   "start_time": "2023-09-09T14:04:07.653322",
   "version": "2.4.0"
  }
 },
 "nbformat": 4,
 "nbformat_minor": 5
}
