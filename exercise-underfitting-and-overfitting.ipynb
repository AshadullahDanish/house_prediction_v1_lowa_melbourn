{
 "cells": [
  {
   "cell_type": "markdown",
   "id": "5eb64732",
   "metadata": {
    "papermill": {
     "duration": 0.00641,
     "end_time": "2023-09-09T16:07:08.144409",
     "exception": false,
     "start_time": "2023-09-09T16:07:08.137999",
     "status": "completed"
    },
    "tags": []
   },
   "source": [
    "**This notebook is an exercise in the [Introduction to Machine Learning](https://www.kaggle.com/learn/intro-to-machine-learning) course.  You can reference the tutorial at [this link](https://www.kaggle.com/dansbecker/underfitting-and-overfitting).**\n",
    "\n",
    "---\n"
   ]
  },
  {
   "cell_type": "markdown",
   "id": "a86e55e5",
   "metadata": {
    "papermill": {
     "duration": 0.005651,
     "end_time": "2023-09-09T16:07:08.156199",
     "exception": false,
     "start_time": "2023-09-09T16:07:08.150548",
     "status": "completed"
    },
    "tags": []
   },
   "source": [
    "## Recap\n",
    "You've built your first model, and now it's time to optimize the size of the tree to make better predictions. Run this cell to set up your coding environment where the previous step left off."
   ]
  },
  {
   "cell_type": "code",
   "execution_count": 1,
   "id": "6f742650",
   "metadata": {
    "execution": {
     "iopub.execute_input": "2023-09-09T16:07:08.170238Z",
     "iopub.status.busy": "2023-09-09T16:07:08.169132Z",
     "iopub.status.idle": "2023-09-09T16:07:10.750310Z",
     "shell.execute_reply": "2023-09-09T16:07:10.749020Z"
    },
    "papermill": {
     "duration": 2.591254,
     "end_time": "2023-09-09T16:07:10.753295",
     "exception": false,
     "start_time": "2023-09-09T16:07:08.162041",
     "status": "completed"
    },
    "tags": []
   },
   "outputs": [
    {
     "name": "stdout",
     "output_type": "stream",
     "text": [
      "Validation MAE: 29,653\n",
      "\n",
      "Setup complete\n"
     ]
    }
   ],
   "source": [
    "# Code you have previously used to load data\n",
    "import pandas as pd\n",
    "from sklearn.metrics import mean_absolute_error\n",
    "from sklearn.model_selection import train_test_split\n",
    "from sklearn.tree import DecisionTreeRegressor\n",
    "\n",
    "\n",
    "# Path of the file to read\n",
    "iowa_file_path = '../input/home-data-for-ml-course/train.csv'\n",
    "\n",
    "home_data = pd.read_csv(iowa_file_path)\n",
    "# Create target object and call it y\n",
    "y = home_data.SalePrice\n",
    "# Create X\n",
    "features = ['LotArea', 'YearBuilt', '1stFlrSF', '2ndFlrSF', 'FullBath', 'BedroomAbvGr', 'TotRmsAbvGrd']\n",
    "X = home_data[features]\n",
    "\n",
    "# Split into validation and training data\n",
    "train_X, val_X, train_y, val_y = train_test_split(X, y, random_state=1)\n",
    "\n",
    "# Specify Model\n",
    "iowa_model = DecisionTreeRegressor(random_state=1)\n",
    "# Fit Model\n",
    "iowa_model.fit(train_X, train_y)\n",
    "\n",
    "# Make validation predictions and calculate mean absolute error\n",
    "val_predictions = iowa_model.predict(val_X)\n",
    "val_mae = mean_absolute_error(val_predictions, val_y)\n",
    "print(\"Validation MAE: {:,.0f}\".format(val_mae))\n",
    "\n",
    "# Set up code checking\n",
    "from learntools.core import binder\n",
    "binder.bind(globals())\n",
    "from learntools.machine_learning.ex5 import *\n",
    "print(\"\\nSetup complete\")"
   ]
  },
  {
   "cell_type": "markdown",
   "id": "ceec956d",
   "metadata": {
    "papermill": {
     "duration": 0.006234,
     "end_time": "2023-09-09T16:07:10.765804",
     "exception": false,
     "start_time": "2023-09-09T16:07:10.759570",
     "status": "completed"
    },
    "tags": []
   },
   "source": [
    "# Exercises\n",
    "You could write the function `get_mae` yourself. For now, we'll supply it. This is the same function you read about in the previous lesson. Just run the cell below."
   ]
  },
  {
   "cell_type": "code",
   "execution_count": 2,
   "id": "0641aee4",
   "metadata": {
    "execution": {
     "iopub.execute_input": "2023-09-09T16:07:10.780895Z",
     "iopub.status.busy": "2023-09-09T16:07:10.780204Z",
     "iopub.status.idle": "2023-09-09T16:07:10.786554Z",
     "shell.execute_reply": "2023-09-09T16:07:10.785383Z"
    },
    "papermill": {
     "duration": 0.016475,
     "end_time": "2023-09-09T16:07:10.789306",
     "exception": false,
     "start_time": "2023-09-09T16:07:10.772831",
     "status": "completed"
    },
    "tags": []
   },
   "outputs": [],
   "source": [
    "def get_mae(max_leaf_nodes, train_X, val_X, train_y, val_y):\n",
    "    model = DecisionTreeRegressor(max_leaf_nodes=max_leaf_nodes, random_state=0)\n",
    "    model.fit(train_X, train_y)\n",
    "    preds_val = model.predict(val_X)\n",
    "    mae = mean_absolute_error(val_y, preds_val)\n",
    "    return(mae)"
   ]
  },
  {
   "cell_type": "markdown",
   "id": "fc32ec3f",
   "metadata": {
    "papermill": {
     "duration": 0.006689,
     "end_time": "2023-09-09T16:07:10.803411",
     "exception": false,
     "start_time": "2023-09-09T16:07:10.796722",
     "status": "completed"
    },
    "tags": []
   },
   "source": [
    "## Step 1: Compare Different Tree Sizes\n",
    "Write a loop that tries the following values for *max_leaf_nodes* from a set of possible values.\n",
    "\n",
    "Call the *get_mae* function on each value of max_leaf_nodes. Store the output in some way that allows you to select the value of `max_leaf_nodes` that gives the most accurate model on your data."
   ]
  },
  {
   "cell_type": "code",
   "execution_count": 3,
   "id": "7290e239",
   "metadata": {
    "execution": {
     "iopub.execute_input": "2023-09-09T16:07:10.817605Z",
     "iopub.status.busy": "2023-09-09T16:07:10.816827Z",
     "iopub.status.idle": "2023-09-09T16:07:10.923415Z",
     "shell.execute_reply": "2023-09-09T16:07:10.922378Z"
    },
    "papermill": {
     "duration": 0.116434,
     "end_time": "2023-09-09T16:07:10.925841",
     "exception": false,
     "start_time": "2023-09-09T16:07:10.809407",
     "status": "completed"
    },
    "tags": []
   },
   "outputs": [
    {
     "name": "stdout",
     "output_type": "stream",
     "text": [
      "Max leaf: 5 \t\t Mean Absolute Error:  35044\n",
      "Max leaf: 25 \t\t Mean Absolute Error:  29016\n",
      "Max leaf: 50 \t\t Mean Absolute Error:  27405\n",
      "Max leaf: 100 \t\t Mean Absolute Error:  27282\n",
      "Max leaf: 250 \t\t Mean Absolute Error:  27893\n",
      "Max leaf: 500 \t\t Mean Absolute Error:  29454\n",
      "\n",
      " best tree size is 100 which have lowest error\n"
     ]
    },
    {
     "data": {
      "application/javascript": [
       "parent.postMessage({\"jupyterEvent\": \"custom.exercise_interaction\", \"data\": {\"outcomeType\": 1, \"valueTowardsCompletion\": 0.5, \"interactionType\": 1, \"questionType\": 1, \"questionId\": \"1_BestTreeSize\", \"learnToolsVersion\": \"0.3.4\", \"failureMessage\": \"\", \"exceptionClass\": \"\", \"trace\": \"\"}}, \"*\")"
      ],
      "text/plain": [
       "<IPython.core.display.Javascript object>"
      ]
     },
     "metadata": {},
     "output_type": "display_data"
    },
    {
     "data": {
      "text/markdown": [
       "<span style=\"color:#33cc33\">Correct</span>"
      ],
      "text/plain": [
       "Correct"
      ]
     },
     "metadata": {},
     "output_type": "display_data"
    }
   ],
   "source": [
    "a = []\n",
    "b = []\n",
    "candidate_max_leaf_nodes = [5, 25, 50, 100, 250, 500]\n",
    "# Write loop to find the ideal tree size from candidate_max_leaf_nodes\n",
    "for max_leaf_node in candidate_max_leaf_nodes:\n",
    "    my_mae = get_mae(max_leaf_node, train_X, val_X, train_y, val_y)\n",
    "    print(\"Max leaf: %d \\t\\t Mean Absolute Error:  %d\" %(max_leaf_node, my_mae))\n",
    "\n",
    "    \n",
    "\n",
    "# Store the best value of max_leaf_nodes (it will be either 5, 25, 50, 100, 250 or 500)\n",
    "scores = {leaf_size: get_mae(leaf_size, train_X, val_X, train_y, val_y) for leaf_size in candidate_max_leaf_nodes}\n",
    "best_tree_size = min(scores, key=scores.get)\n",
    "print(\"\\n best tree size is %d which have lowest error\" %best_tree_size)\n",
    "# Check your answer\n",
    "step_1.check()"
   ]
  },
  {
   "cell_type": "markdown",
   "id": "0fe57fd2",
   "metadata": {
    "papermill": {
     "duration": 0.006516,
     "end_time": "2023-09-09T16:07:10.939014",
     "exception": false,
     "start_time": "2023-09-09T16:07:10.932498",
     "status": "completed"
    },
    "tags": []
   },
   "source": [
    "## Step 2: Fit Model Using All Data\n",
    "You know the best tree size. If you were going to deploy this model in practice, you would make it even more accurate by using all of the data and keeping that tree size.  That is, you don't need to hold out the validation data now that you've made all your modeling decisions."
   ]
  },
  {
   "cell_type": "code",
   "execution_count": 4,
   "id": "cd9fdaa7",
   "metadata": {
    "execution": {
     "iopub.execute_input": "2023-09-09T16:07:10.955114Z",
     "iopub.status.busy": "2023-09-09T16:07:10.954694Z",
     "iopub.status.idle": "2023-09-09T16:07:10.976170Z",
     "shell.execute_reply": "2023-09-09T16:07:10.973766Z"
    },
    "papermill": {
     "duration": 0.033422,
     "end_time": "2023-09-09T16:07:10.979515",
     "exception": false,
     "start_time": "2023-09-09T16:07:10.946093",
     "status": "completed"
    },
    "tags": []
   },
   "outputs": [
    {
     "data": {
      "application/javascript": [
       "parent.postMessage({\"jupyterEvent\": \"custom.exercise_interaction\", \"data\": {\"outcomeType\": 1, \"valueTowardsCompletion\": 0.5, \"interactionType\": 1, \"questionType\": 2, \"questionId\": \"2_FitModelWithAllData\", \"learnToolsVersion\": \"0.3.4\", \"failureMessage\": \"\", \"exceptionClass\": \"\", \"trace\": \"\"}}, \"*\")"
      ],
      "text/plain": [
       "<IPython.core.display.Javascript object>"
      ]
     },
     "metadata": {},
     "output_type": "display_data"
    },
    {
     "data": {
      "text/markdown": [
       "<span style=\"color:#33cc33\">Correct</span>"
      ],
      "text/plain": [
       "Correct"
      ]
     },
     "metadata": {},
     "output_type": "display_data"
    }
   ],
   "source": [
    "# Fill in argument to make optimal size and uncomment\n",
    "final_model = DecisionTreeRegressor(max_leaf_nodes=best_tree_size, random_state=1)\n",
    "\n",
    "# fit the final model and uncomment the next two lines\n",
    "final_model.fit(X,y)\n",
    "\n",
    "# Check your answer\n",
    "step_2.check()"
   ]
  },
  {
   "cell_type": "markdown",
   "id": "b33a143d",
   "metadata": {
    "papermill": {
     "duration": 0.006451,
     "end_time": "2023-09-09T16:07:10.992905",
     "exception": false,
     "start_time": "2023-09-09T16:07:10.986454",
     "status": "completed"
    },
    "tags": []
   },
   "source": [
    "You've tuned this model and improved your results. But we are still using Decision Tree models, which are not very sophisticated by modern machine learning standards. In the next step you will learn to use Random Forests to improve your models even more.\n",
    "\n",
    "# Keep Going\n",
    "\n",
    "You are ready for **[Random Forests](https://www.kaggle.com/dansbecker/random-forests).**\n"
   ]
  },
  {
   "cell_type": "markdown",
   "id": "05e88aae",
   "metadata": {
    "papermill": {
     "duration": 0.006574,
     "end_time": "2023-09-09T16:07:11.006960",
     "exception": false,
     "start_time": "2023-09-09T16:07:11.000386",
     "status": "completed"
    },
    "tags": []
   },
   "source": [
    "---\n",
    "\n",
    "\n",
    "\n",
    "\n",
    "*Have questions or comments? Visit the [course discussion forum](https://www.kaggle.com/learn/intro-to-machine-learning/discussion) to chat with other learners.*"
   ]
  }
 ],
 "kernelspec": {
  "display_name": "Python 3",
  "language": "python",
  "name": "python3"
 },
 "language_info": {
  "codemirror_mode": {
   "name": "ipython",
   "version": 3
  },
  "file_extension": ".py",
  "mimetype": "text/x-python",
  "name": "python",
  "nbconvert_exporter": "python",
  "pygments_lexer": "ipython3",
  "version": "3.6.4"
 },
 "metadata": {
  "kernelspec": {
   "display_name": "Python 3",
   "language": "python",
   "name": "python3"
  },
  "language_info": {
   "codemirror_mode": {
    "name": "ipython",
    "version": 3
   },
   "file_extension": ".py",
   "mimetype": "text/x-python",
   "name": "python",
   "nbconvert_exporter": "python",
   "pygments_lexer": "ipython3",
   "version": "3.10.12"
  },
  "papermill": {
   "default_parameters": {},
   "duration": 7.475436,
   "end_time": "2023-09-09T16:07:11.635519",
   "environment_variables": {},
   "exception": null,
   "input_path": "__notebook__.ipynb",
   "output_path": "__notebook__.ipynb",
   "parameters": {},
   "start_time": "2023-09-09T16:07:04.160083",
   "version": "2.4.0"
  }
 },
 "nbformat": 4,
 "nbformat_minor": 5
}
